{
 "cells": [
  {
   "cell_type": "code",
   "execution_count": 49,
   "metadata": {
    "collapsed": true
   },
   "outputs": [],
   "source": [
    "import numpy as np\n",
    "import pandas as pd\n",
    "import matplotlib.pyplot as plt\n",
    "import numpy as np\n",
    "import copy\n",
    "import pylab as P\n",
    "import csv"
   ]
  },
  {
   "cell_type": "code",
   "execution_count": 50,
   "metadata": {
    "collapsed": false
   },
   "outputs": [],
   "source": [
    "# For .read_csv, always use header=0 when you know row 0 is the header row\n",
    "df = pd.read_csv(r'/home/rahulmanuwas/Dropbox/Kaggle/train.csv', header=0)\n",
    "\n",
    "#Replace all the missing values in the Age column with meadian of age in df\n",
    "df[\"Age\"] = df[\"Age\"].fillna(df[\"Age\"].median())\n",
    "\n",
    "# Replace all the occurences of male with the number 0 and female with 1.\n",
    "df['Sex'] = df['Sex'].map({'male':1,'female':0})\n",
    "\n",
    "#Replace all the missing values in the fare column with meadian of fare in df\n",
    "df[\"Fare\"] = df[\"Fare\"].fillna(df[\"Fare\"].median())\n",
    "\n",
    "## Replace all the occurences of S with 0, C with 1, Q with 2 in Embarked\n",
    "df[\"Embarked\"] = df[\"Embarked\"].fillna(\"S\")\n",
    "df['Embarked'] = df['Embarked'].map({'S':0,'C':1, 'Q':2})\n",
    "\n",
    "#Replace all the missing values in the Pclass with mode of Pclass in df\n",
    "df[\"Pclass\"] = df[\"Pclass\"].fillna(df[\"Pclass\"].mode())\n",
    "\n",
    "df[\"SibSp\"] = df[\"SibSp\"].fillna(df[\"SibSp\"].mode())\n",
    "df[\"Parch\"] = df[\"Parch\"].fillna(df[\"Parch\"].mode())\n",
    "\n",
    "# Parch\n",
    "\n",
    "titanic = copy.deepcopy(df)\n",
    "#print titanic.tail(2)\n",
    "#df.a = df.a.astype(float)\n",
    "titanic.Age = titanic.Age.astype(int)\n",
    "titanic.Sex = titanic.Sex.astype(int)\n",
    "titanic.Fare = titanic.Fare.astype(int)\n",
    "titanic.Embarked = titanic.Embarked.astype(int)\n",
    "titanic.Survived = titanic.Survived.astype(int)\n",
    "titanic.Pclass = titanic.Pclass.astype(int)\n",
    "titanic.SibSp = titanic.SibSp.astype(int)\n",
    "titanic.Parch = titanic.Parch.astype(int)\n",
    "\n",
    "X = titanic[['Age', 'Sex', 'Fare','Embarked', 'Pclass', 'SibSp', 'Parch']].values\n",
    "y = titanic['Survived'].values\n",
    "#---------------------------- training data ------------------------------------#\n"
   ]
  },
  {
   "cell_type": "code",
   "execution_count": 51,
   "metadata": {
    "collapsed": false
   },
   "outputs": [],
   "source": [
    "# For .read_csv, always use header=0 when you know row 0 is the header row\n",
    "test = pd.read_csv(r'/home/rahulmanuwas/Dropbox/Kaggle/test.csv', header=0)\n",
    "\n",
    "#Replace all the missing values in the Age column with meadian of age in test\n",
    "test[\"Age\"] = test[\"Age\"].fillna(test[\"Age\"].median())\n",
    "\n",
    "# Replace all the occurences of male with the number 0 and female with 1.\n",
    "test['Sex'] = test['Sex'].map({'male':1,'female':0})\n",
    "\n",
    "#Replace all the missing values in the fare column with meadian of fare in test\n",
    "test[\"Fare\"] = test[\"Fare\"].fillna(test[\"Fare\"].median())\n",
    "\n",
    "## Replace all the occurences of S with 0, C with 1, Q with 2 in Embarked\n",
    "test[\"Embarked\"] = test[\"Embarked\"].fillna(\"S\")\n",
    "test['Embarked'] = test['Embarked'].map({'S':0,'C':1, 'Q':2})\n",
    "\n",
    "#Replace all the missing values in the Pclass with mode of Pclass in test\n",
    "test[\"Pclass\"] = test[\"Pclass\"].fillna(test[\"Pclass\"].mode())\n",
    "\n",
    "test[\"SibSp\"] = test[\"SibSp\"].fillna(test[\"SibSp\"].mode())\n",
    "test[\"Parch\"] = test[\"Parch\"].fillna(test[\"Parch\"].mode())\n",
    "\n",
    "titanic2 = copy.deepcopy(test)\n",
    "titanic2.Age = titanic2.Age.astype(int)\n",
    "titanic2.Sex = titanic2.Sex.astype(int)\n",
    "titanic2.Fare = titanic2.Fare.astype(int)\n",
    "titanic2.Embarked = titanic2.Embarked.astype(int)\n",
    "titanic2.Pclass = titanic2.Pclass.astype(int)\n",
    "titanic2.SibSp = titanic2.SibSp.astype(int)\n",
    "titanic2.Parch = titanic2.Parch.astype(int)"
   ]
  },
  {
   "cell_type": "code",
   "execution_count": 52,
   "metadata": {
    "collapsed": false
   },
   "outputs": [
    {
     "name": "stdout",
     "output_type": "stream",
     "text": [
      "<type 'numpy.ndarray'>\n"
     ]
    }
   ],
   "source": [
    "#Logistic Regression\n",
    "\n",
    "# import the class\n",
    "from sklearn.linear_model import LogisticRegression\n",
    "# instantiate the model (using the default parameters)\n",
    "logreg = LogisticRegression()\n",
    "# fit the model with data\n",
    "logreg.fit(X, y)\n",
    "#predicted = LR_model.predict_probabilty(X_train2)\n",
    "X_test = titanic2[['Age', 'Sex', 'Fare','Embarked', 'Pclass', 'SibSp', 'Parch']].values\n",
    "\n",
    "# predict the response values for the observations in X\n",
    "predicted = logreg.predict(X_test)\n",
    "print type(predicted)"
   ]
  },
  {
   "cell_type": "code",
   "execution_count": 53,
   "metadata": {
    "collapsed": false
   },
   "outputs": [],
   "source": [
    "# Export Results \n",
    "pid_values = titanic2.PassengerId.values\n",
    "predicted_df = pd.DataFrame({'PassengerId' : pid_values, 'Survived' : predicted}, columns=['PassengerId','Survived'])\n",
    "predicted_df.head(5)\n",
    "predicted_df.to_csv('/home/rahulmanuwas/sklearn_results/result_LR.csv', sep=',' , index=False )"
   ]
  },
  {
   "cell_type": "code",
   "execution_count": 54,
   "metadata": {
    "collapsed": false
   },
   "outputs": [
    {
     "name": "stdout",
     "output_type": "stream",
     "text": [
      "<type 'numpy.ndarray'>\n"
     ]
    }
   ],
   "source": [
    "#KNN \n",
    "\n",
    "from sklearn.neighbors import KNeighborsClassifier\n",
    "knn = KNeighborsClassifier(n_neighbors=10)\n",
    "knn.fit(X, y)\n",
    "\n",
    "#predicted = logreg.predict(X_test)\n",
    "predicted = knn.predict(X_test)\n",
    "print type(predicted)\n",
    "pid_values = titanic2.PassengerId.values\n",
    "predicted_df = pd.DataFrame({'PassengerId' : pid_values, 'Survived' : predicted}, columns=['PassengerId','Survived'])\n",
    "predicted_df.head(5)\n",
    "predicted_df.to_csv('/home/rahulmanuwas/sklearn_results/result_KNN.csv', sep=',' , index=False )"
   ]
  },
  {
   "cell_type": "code",
   "execution_count": 55,
   "metadata": {
    "collapsed": false
   },
   "outputs": [],
   "source": [
    "#Naive Bayes\n",
    "\n",
    "from sklearn.naive_bayes import GaussianNB\n",
    "gnb = GaussianNB()\n",
    "\n",
    "gnbfit = gnb.fit(X, y)\n",
    "predicted = gnbfit.predict(X_test)\n",
    "\n",
    "pid_values = titanic2.PassengerId.values\n",
    "predicted_df = pd.DataFrame({'PassengerId' : pid_values, 'Survived' : predicted}, columns=['PassengerId','Survived'])\n",
    "predicted_df.head(5)\n",
    "predicted_df.to_csv('/home/rahulmanuwas/sklearn_results/result_NB.csv', sep=',' , index=False )"
   ]
  },
  {
   "cell_type": "code",
   "execution_count": 56,
   "metadata": {
    "collapsed": true
   },
   "outputs": [],
   "source": [
    "#SVM\n",
    "\n",
    "from sklearn import svm\n",
    "\n",
    "clf = svm.SVC()\n",
    "clf.fit(X, y)\n",
    "predicted = clf.predict(X_test)\n",
    "\n",
    "pid_values = titanic2.PassengerId.values\n",
    "predicted_df = pd.DataFrame({'PassengerId' : pid_values, 'Survived' : predicted}, columns=['PassengerId','Survived'])\n",
    "predicted_df.head(5)\n",
    "predicted_df.to_csv('/home/rahulmanuwas/sklearn_results/result_SVM.csv', sep=',' , index=False )\n"
   ]
  },
  {
   "cell_type": "code",
   "execution_count": 57,
   "metadata": {
    "collapsed": true
   },
   "outputs": [],
   "source": [
    "#Random Forest \n",
    "\n",
    "# Import the random forest package\n",
    "from sklearn.ensemble import RandomForestClassifier \n",
    "\n",
    "# Create the random forest object which will include all the parameters\n",
    "# for the fit\n",
    "forest = RandomForestClassifier(n_estimators = 100)\n",
    "\n",
    "# Fit the training data to the Survived labels and create the decision trees\n",
    "forest = forest.fit(X,y)\n",
    "\n",
    "# Take the same decision trees and run it on the test data\n",
    "predicted = forest.predict(X_test)\n",
    "\n",
    "pid_values = titanic2.PassengerId.values\n",
    "predicted_df = pd.DataFrame({'PassengerId' : pid_values, 'Survived' : predicted}, columns=['PassengerId','Survived'])\n",
    "predicted_df.head(5)\n",
    "predicted_df.to_csv('/home/rahulmanuwas/sklearn_results/result_RF.csv', sep=',' , index=False )\n"
   ]
  },
  {
   "cell_type": "code",
   "execution_count": 58,
   "metadata": {
    "collapsed": false
   },
   "outputs": [],
   "source": [
    "from sklearn.neural_network import MLPClassifier\n",
    "clf = MLPClassifier(hidden_layer_sizes=(15,), random_state=1, max_iter=1, warm_start=True)\n",
    "for i in range(200):\n",
    "    clf.fit(X,y)\n",
    "                    \n",
    "predicted = clf.predict(X_test)\n",
    "\n",
    "pid_values = titanic2.PassengerId.values\n",
    "predicted_df = pd.DataFrame({'PassengerId' : pid_values, 'Survived' : predicted}, columns=['PassengerId','Survived'])\n",
    "predicted_df.head(5)\n",
    "predicted_df.to_csv('/home/rahulmanuwas/sklearn_results/result_ANN.csv', sep=',' , index=False )"
   ]
  },
  {
   "cell_type": "code",
   "execution_count": 59,
   "metadata": {
    "collapsed": false
   },
   "outputs": [],
   "source": [
    "from sklearn import tree\n",
    "clf = tree.DecisionTreeClassifier()\n",
    "clf = clf.fit(X, y)\n",
    "\n",
    "predicted = clf.predict(X_test)\n",
    "\n",
    "pid_values = titanic2.PassengerId.values\n",
    "predicted_df = pd.DataFrame({'PassengerId' : pid_values, 'Survived' : predicted}, columns=['PassengerId','Survived'])\n",
    "predicted_df.head(5)\n",
    "predicted_df.to_csv('/home/rahulmanuwas/sklearn_results/result_DT.csv', sep=',' , index=False )"
   ]
  },
  {
   "cell_type": "code",
   "execution_count": null,
   "metadata": {
    "collapsed": true
   },
   "outputs": [],
   "source": []
  }
 ],
 "metadata": {
  "kernelspec": {
   "display_name": "Python 2",
   "language": "python",
   "name": "python2"
  },
  "language_info": {
   "codemirror_mode": {
    "name": "ipython",
    "version": 2
   },
   "file_extension": ".py",
   "mimetype": "text/x-python",
   "name": "python",
   "nbconvert_exporter": "python",
   "pygments_lexer": "ipython2",
   "version": "2.7.11"
  }
 },
 "nbformat": 4,
 "nbformat_minor": 0
}
