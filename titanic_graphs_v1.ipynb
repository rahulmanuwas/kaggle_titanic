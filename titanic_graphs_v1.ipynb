{
 "cells": [
  {
   "cell_type": "code",
   "execution_count": null,
   "metadata": {
    "collapsed": false
   },
   "outputs": [],
   "source": [
    "import pandas as pd\n",
    "import matplotlib.pyplot as plt\n",
    "import numpy as np\n",
    "\n",
    "df = pd.read_csv(r'/home/rahulmanuwas/Dropbox/Kaggle/train.csv')\n",
    "df['bin_categories']= np.floor(df['Fare']/10)\n",
    "df[df['bin_categories']>3] = 3\n",
    "df= df[['bin_categories', 'Survived']]\n",
    "\n",
    "df2 = pd.DataFrame({'count_total' : df.groupby('bin_categories').count()['Survived'], 'count_number': df[df['Survived']==1].groupby( [ \"bin_categories\"] ).count()['Survived']}).reset_index()"
   ]
  },
  {
   "cell_type": "code",
   "execution_count": null,
   "metadata": {
    "collapsed": true
   },
   "outputs": [],
   "source": [
    "df2['Survived%']=(df2['count_number']/df2['count_total'])*100\n",
    "df2['bin_categories'] = (df2['bin_categories']+1)*10\n",
    "\n",
    "objects = df2['bin_categories'].values\n",
    "y_pos = np.arange(len(objects))\n",
    "performance = df2['Survived%'].values\n",
    "\n",
    "plt.bar(y_pos, performance, align='center', alpha=0.5)\n",
    "plt.xticks(y_pos, objects)\n",
    "plt.ylabel('Usage')\n",
    "plt.title('Survive % vs Fare Categories')\n",
    "\n",
    "plt.show()"
   ]
  },
  {
   "cell_type": "code",
   "execution_count": null,
   "metadata": {
    "collapsed": true
   },
   "outputs": [],
   "source": [
    "objects = df2['bin_categories'].values\n",
    "y_pos = np.arange(len(objects))\n",
    "survived = df2['count_number'].values\n",
    "percent_survived = df2['Survived%'].values\n",
    "\n",
    "plt.bar(y_pos, survived, align='center', alpha=0.5)\n",
    "plt.plot(y_pos, percent_survived, 'ro')\n",
    "plt.xticks(y_pos, objects)\n",
    "plt.ylabel('Usage')\n",
    "plt.title('Survive % vs Fare Categories')\n",
    "\n",
    "plt.show()"
   ]
  },
  {
   "cell_type": "code",
   "execution_count": null,
   "metadata": {
    "collapsed": true
   },
   "outputs": [],
   "source": [
    "objects = df2['bin_categories'].values\n",
    "y_pos = np.arange(len(objects))\n",
    "survived = df2['count_number'].values\n",
    "percent_survived = df2['Survived%'].values\n",
    "\n",
    "plt.bar(y_pos, survived, align='center', alpha=0.5)\n",
    "plt.plot(y_pos, percent_survived, 'ro')\n",
    "plt.xticks(y_pos, objects)\n",
    "plt.xlabel('Fare Categories')\n",
    "plt.ylabel('Survived Numbers')\n",
    "plt.title('Survive % vs Fare Categories')\n",
    "\n",
    "plt.show()"
   ]
  },
  {
   "cell_type": "code",
   "execution_count": null,
   "metadata": {
    "collapsed": false
   },
   "outputs": [],
   "source": [
    "df_survived_total = df[df['Survived']==1].count()"
   ]
  },
  {
   "cell_type": "code",
   "execution_count": null,
   "metadata": {
    "collapsed": false
   },
   "outputs": [],
   "source": [
    "print df_survived_total"
   ]
  }
 ],
 "metadata": {
  "anaconda-cloud": {},
  "kernelspec": {
   "display_name": "Python [conda root]",
   "language": "python",
   "name": "conda-root-py"
  },
  "language_info": {
   "codemirror_mode": {
    "name": "ipython",
    "version": 3
   },
   "file_extension": ".py",
   "mimetype": "text/x-python",
   "name": "python",
   "nbconvert_exporter": "python",
   "pygments_lexer": "ipython3",
   "version": "3.5.2"
  }
 },
 "nbformat": 4,
 "nbformat_minor": 0
}
